{
 "cells": [
  {
   "cell_type": "code",
   "execution_count": 1,
   "id": "fdf3d692",
   "metadata": {},
   "outputs": [],
   "source": [
    "import pandas as pd\n",
    "import time\n",
    "import re"
   ]
  },
  {
   "cell_type": "code",
   "execution_count": 2,
   "id": "c5077b41",
   "metadata": {},
   "outputs": [],
   "source": [
    "from selenium import webdriver\n",
    "from selenium.webdriver.support.ui import WebDriverWait\n",
    "from selenium.webdriver.common.by import By\n",
    "from selenium.webdriver.support import expected_conditions as EC\n",
    "from selenium.webdriver.common.keys import Keys\n",
    "from selenium.webdriver.firefox.options import Options\n",
    "from selenium.webdriver.common.action_chains import ActionChains\n",
    "\n",
    "#options\n",
    "option = Options()\n",
    "option.add_argument(\"--disable-infobars\")\n",
    "option.add_argument(\"start-maximized\")\n",
    "option.add_argument(\"--disable-extensions\")"
   ]
  },
  {
   "cell_type": "code",
   "execution_count": 3,
   "id": "cc05e3fa",
   "metadata": {},
   "outputs": [],
   "source": [
    "#user = 'denverhues123@gmail.com'\n",
    "#passw = 'u77$58YPPAah'\n",
    "user = 'fb-scraper333@proton.me'\n",
    "passw = 'z.18Y:s8K7Z3'"
   ]
  },
  {
   "cell_type": "markdown",
   "id": "ad4f6482",
   "metadata": {},
   "source": [
    "## Scraping Democrats"
   ]
  },
  {
   "cell_type": "code",
   "execution_count": 4,
   "id": "5c8dc75c",
   "metadata": {},
   "outputs": [
    {
     "name": "stdout",
     "output_type": "stream",
     "text": [
      "2886\n"
     ]
    }
   ],
   "source": [
    "#url = 'https://www.facebook.com/groups/111188856119651/members' #Democratic Voices for Biden/Harris 2024\n",
    "url = 'https://www.facebook.com/groups/203489800225585/members' #democratic america\n",
    "driver = webdriver.Firefox(options=option)\n",
    "wait = WebDriverWait(driver, 30)\n",
    "driver.get(url)\n",
    "email_field = wait.until(EC.visibility_of_element_located((By.NAME, 'email')))\n",
    "email_field.send_keys(user)\n",
    "pass_field = wait.until(EC.visibility_of_element_located((By.NAME, 'pass')))\n",
    "pass_field.send_keys(passw)\n",
    "pass_field.send_keys(Keys.RETURN)\n",
    "\n",
    "time.sleep(5)\n",
    "\n",
    "#scrolling down\n",
    "SCROLL_PAUSE_TIME = 0.5\n",
    "\n",
    "# Get scroll height\n",
    "last_height = driver.execute_script(\"return document.body.scrollHeight\")\n",
    "\n",
    "for i in range(1000):\n",
    "    # Scroll down to bottom\n",
    "    driver.execute_script(\"window.scrollTo(0, document.body.scrollHeight);\")\n",
    "\n",
    "    # Wait to load page\n",
    "    time.sleep(SCROLL_PAUSE_TIME)\n",
    "\n",
    "    # Calculate new scroll height and compare with last scroll height\n",
    "#     new_height = driver.execute_script(\"return document.body.scrollHeight\")\n",
    "#     if new_height == last_height:\n",
    "#         break\n",
    "#     last_height = new_height\n",
    "\n",
    "    \n",
    "\n",
    "#getting profile urls\n",
    "lst = WebDriverWait(driver, 30).until(EC.visibility_of_all_elements_located(('xpath', \"//*[@class='x1lq5wgf xgqcy7u x30kzoy x9jhf4c x1lliihq']\")))\n",
    "\n",
    "data = []\n",
    "profiles = []\n",
    "for i, value in enumerate(lst):\n",
    "    try:\n",
    "        data.append(value.find_elements(\"xpath\", \"//*[@class='x1i10hfl x1qjc9v5 xjbqb8w xjqpnuy xa49m3k xqeqjp1 x2hbi6w x13fuv20 xu3j5b3 x1q0q8m5 x26u7qi x972fbf xcfux6l x1qhh985 xm0m39n x9f619 x1ypdohk xdl72j9 x2lah0s xe8uvvx xdj266r x11i5rnm xat24cr x1mh8g0r x2lwn1j xeuugli xexx8yu x4uap5 x18d9i69 xkhd6sd x1n2onr6 x16tdsg8 x1hl2dhg xggy1nq x1ja2u2z x1t137rt x1o1ewxj x3x9cwd x1e5q0jg x13rtm0m x1q0g3np x87ps6o x1lku1pv x1rg5ohu x1a2a7pz']\")[i].get_attribute('href'))\n",
    "        profiles.append(re.sub('[^0-9]','', re.sub('.*user\\/', '', data[i])))\n",
    "    except:\n",
    "        pass\n",
    "    \n",
    "driver.quit()\n",
    "\n",
    "\n",
    "print(len(profiles))"
   ]
  },
  {
   "cell_type": "code",
   "execution_count": 5,
   "id": "94320058",
   "metadata": {},
   "outputs": [],
   "source": [
    "import datetime\n",
    "today = datetime.datetime.today().strftime('%Y-%m-%d')\n",
    "ids_save = pd.DataFrame({'id': profiles, 'href': data})\n",
    "ids_save.to_csv('IDS_democrats_' + str(today) + '.csv', index = True)"
   ]
  },
  {
   "cell_type": "code",
   "execution_count": 4,
   "id": "5665be3f",
   "metadata": {},
   "outputs": [],
   "source": [
    "import facebook_scraper as fs\n",
    "from facebook_scraper import get_profile\n",
    "#https://github.com/kevinzg/facebook-scraper\n",
    "\n",
    "#add user agent\n",
    "from facebook_scraper import *\n",
    "set_user_agent('Mozilla/5.0 (X11; Linux x86_64; rv:109.0) Gecko/20100101 Firefox/111.0')"
   ]
  },
  {
   "cell_type": "code",
   "execution_count": 5,
   "id": "c91f3182",
   "metadata": {
    "scrolled": false
   },
   "outputs": [
    {
     "name": "stdout",
     "output_type": "stream",
     "text": [
      "0 out of 2886 ... Check: 0\n",
      "100 out of 2886 ... Check: 0\n",
      "200 out of 2886 ... Check: 0\n",
      "300 out of 2886 ... Check: 0\n",
      "400 out of 2886 ... Check: 0\n",
      "500 out of 2886 ... Check: 0\n",
      "600 out of 2886 ... Check: 0\n",
      "700 out of 2886 ... Check: 0\n",
      "800 out of 2886 ... Check: 0\n",
      "900 out of 2886 ... Check: 0\n",
      "1000 out of 2886 ... Check: 0\n",
      "1100 out of 2886 ... Check: 0\n",
      "1200 out of 2886 ... Check: 0\n",
      "1300 out of 2886 ... Check: 0\n",
      "1400 out of 2886 ... Check: 0\n",
      "1500 out of 2886 ... Check: 0\n",
      "1600 out of 2886 ... Check: 0\n",
      "1700 out of 2886 ... Check: 0\n",
      "1800 out of 2886 ... Check: 0\n",
      "1900 out of 2886 ... Check: 0\n",
      "2000 out of 2886 ... Check: 0\n",
      "2100 out of 2886 ... Check: 0\n",
      "2200 out of 2886 ... Check: 0\n",
      "2300 out of 2886 ... Check: 0\n",
      "2400 out of 2886 ... Check: 0\n",
      "2500 out of 2886 ... Check: 0\n",
      "2600 out of 2886 ... Check: 0\n",
      "2700 out of 2886 ... Check: 0\n",
      "2800 out of 2886 ... Check: 0\n"
     ]
    },
    {
     "data": {
      "text/plain": [
       "0"
      ]
     },
     "execution_count": 5,
     "metadata": {},
     "output_type": "execute_result"
    }
   ],
   "source": [
    "#get datas\n",
    "profiles = pd.read_csv('./IDS_democrats_' + '2023-04-10' + '.csv')\n",
    "profiles = profiles['id']\n",
    "ids = []\n",
    "pfp = []\n",
    "status = []\n",
    "friends = []\n",
    "followers = []\n",
    "following = []\n",
    "name = []\n",
    "\n",
    "for i, value in enumerate(profiles):\n",
    "    try:\n",
    "        #get profile\n",
    "        temp = get_profile(str(profiles[i]), cookies=\"cookies-alt.json\", options={\"posts_per_page\": 0}) \n",
    "        #get relationship status\n",
    "        pfp.append(temp.get('profile_picture'))\n",
    "        status.append(temp.get('Relationship'))\n",
    "        ids.append(value)\n",
    "        friends.append(temp.get('Friend_count'))\n",
    "        followers.append(temp.get('Follower_count'))\n",
    "        following.append(temp.get('Following_count'))\n",
    "        name.append(temp.get('Name'))\n",
    "        time.sleep(1.2)\n",
    "        \n",
    "    except:\n",
    "        pass\n",
    "        \n",
    "    if i%100 == 0:\n",
    "        print(str(i), 'out of', str(len(profiles)), '... Check:', str(len(name)))\n",
    "    \n",
    "#create dataframe\n",
    "df = pd.DataFrame({'id': ids, 'name': name, 'pfp': pfp, 'status': status, 'party': ['d']*len(ids), 'friends': friends, 'followers': followers, 'following': following})\n",
    "\n",
    "#save it\n",
    "import datetime\n",
    "today = datetime.datetime.today().strftime('%Y-%m-%d')\n",
    "df.to_csv('democrats_' + str(today) + '.csv', index = True)\n",
    "len(df.index)"
   ]
  },
  {
   "cell_type": "code",
   "execution_count": 39,
   "id": "c4cc4e82",
   "metadata": {},
   "outputs": [
    {
     "ename": "NoSuchWindowException",
     "evalue": "Message: Browsing context has been discarded\nStacktrace:\nRemoteError@chrome://remote/content/shared/RemoteError.sys.mjs:8:8\nWebDriverError@chrome://remote/content/shared/webdriver/Errors.sys.mjs:180:5\nNoSuchWindowError@chrome://remote/content/shared/webdriver/Errors.sys.mjs:434:5\nassert.that/<@chrome://remote/content/shared/webdriver/Assert.sys.mjs:485:13\nassert.open@chrome://remote/content/shared/webdriver/Assert.sys.mjs:147:4\nGeckoDriver.prototype.findElements@chrome://remote/content/marionette/driver.sys.mjs:1525:15\ndespatch@chrome://remote/content/marionette/server.sys.mjs:303:40\nexecute@chrome://remote/content/marionette/server.sys.mjs:276:16\nonPacket/<@chrome://remote/content/marionette/server.sys.mjs:249:20\nonPacket@chrome://remote/content/marionette/server.sys.mjs:250:9\n_onJSONObjectReady/<@chrome://remote/content/marionette/transport.sys.mjs:496:20\n",
     "output_type": "error",
     "traceback": [
      "\u001b[0;31m---------------------------------------------------------------------------\u001b[0m",
      "\u001b[0;31mNoSuchWindowException\u001b[0m                     Traceback (most recent call last)",
      "Input \u001b[0;32mIn [39]\u001b[0m, in \u001b[0;36m<cell line: 6>\u001b[0;34m()\u001b[0m\n\u001b[1;32m      4\u001b[0m wait \u001b[38;5;241m=\u001b[39m WebDriverWait(driver, \u001b[38;5;241m30\u001b[39m)\n\u001b[1;32m      5\u001b[0m driver\u001b[38;5;241m.\u001b[39mget(url)\n\u001b[0;32m----> 6\u001b[0m mask \u001b[38;5;241m=\u001b[39m \u001b[43mWebDriverWait\u001b[49m\u001b[43m(\u001b[49m\u001b[43mdriver\u001b[49m\u001b[43m,\u001b[49m\u001b[43m \u001b[49m\u001b[38;5;241;43m30\u001b[39;49m\u001b[43m)\u001b[49m\u001b[38;5;241;43m.\u001b[39;49m\u001b[43muntil\u001b[49m\u001b[43m(\u001b[49m\u001b[43mEC\u001b[49m\u001b[38;5;241;43m.\u001b[39;49m\u001b[43mvisibility_of_all_elements_located\u001b[49m\u001b[43m(\u001b[49m\u001b[43m(\u001b[49m\u001b[38;5;124;43m'\u001b[39;49m\u001b[38;5;124;43mxpath\u001b[39;49m\u001b[38;5;124;43m'\u001b[39;49m\u001b[43m,\u001b[49m\u001b[43m \u001b[49m\u001b[38;5;124;43m\"\u001b[39;49m\u001b[38;5;124;43m//*[@class=\u001b[39;49m\u001b[38;5;124;43m'\u001b[39;49m\u001b[38;5;124;43mx1rg5ohu x1n2onr6 x3ajldb x1ja2u2z\u001b[39;49m\u001b[38;5;124;43m'\u001b[39;49m\u001b[38;5;124;43m]\u001b[39;49m\u001b[38;5;124;43m\"\u001b[39;49m\u001b[43m)\u001b[49m\u001b[43m)\u001b[49m\u001b[43m)\u001b[49m\n\u001b[1;32m      7\u001b[0m \u001b[38;5;66;03m# try:\u001b[39;00m\n\u001b[1;32m      8\u001b[0m \u001b[38;5;66;03m#     #pfps.append(mask.get_attribute('href'))\u001b[39;00m\n\u001b[1;32m      9\u001b[0m \u001b[38;5;66;03m#     temp = mask[0].get_attribute('href')\u001b[39;00m\n\u001b[1;32m     10\u001b[0m \u001b[38;5;66;03m# except:\u001b[39;00m\n\u001b[1;32m     11\u001b[0m \u001b[38;5;66;03m#     pass\u001b[39;00m\n\u001b[1;32m     13\u001b[0m \u001b[38;5;28mprint\u001b[39m(mask[\u001b[38;5;241m0\u001b[39m])\u001b[38;5;66;03m#.get_attribute('xlink:href'))\u001b[39;00m\n",
      "File \u001b[0;32m~/Downloads/miniconda3/lib/python3.9/site-packages/selenium/webdriver/support/wait.py:86\u001b[0m, in \u001b[0;36mWebDriverWait.until\u001b[0;34m(self, method, message)\u001b[0m\n\u001b[1;32m     84\u001b[0m \u001b[38;5;28;01mwhile\u001b[39;00m \u001b[38;5;28;01mTrue\u001b[39;00m:\n\u001b[1;32m     85\u001b[0m     \u001b[38;5;28;01mtry\u001b[39;00m:\n\u001b[0;32m---> 86\u001b[0m         value \u001b[38;5;241m=\u001b[39m \u001b[43mmethod\u001b[49m\u001b[43m(\u001b[49m\u001b[38;5;28;43mself\u001b[39;49m\u001b[38;5;241;43m.\u001b[39;49m\u001b[43m_driver\u001b[49m\u001b[43m)\u001b[49m\n\u001b[1;32m     87\u001b[0m         \u001b[38;5;28;01mif\u001b[39;00m value:\n\u001b[1;32m     88\u001b[0m             \u001b[38;5;28;01mreturn\u001b[39;00m value\n",
      "File \u001b[0;32m~/Downloads/miniconda3/lib/python3.9/site-packages/selenium/webdriver/support/expected_conditions.py:186\u001b[0m, in \u001b[0;36mvisibility_of_all_elements_located.<locals>._predicate\u001b[0;34m(driver)\u001b[0m\n\u001b[1;32m    184\u001b[0m \u001b[38;5;28;01mdef\u001b[39;00m \u001b[38;5;21m_predicate\u001b[39m(driver):\n\u001b[1;32m    185\u001b[0m     \u001b[38;5;28;01mtry\u001b[39;00m:\n\u001b[0;32m--> 186\u001b[0m         elements \u001b[38;5;241m=\u001b[39m \u001b[43mdriver\u001b[49m\u001b[38;5;241;43m.\u001b[39;49m\u001b[43mfind_elements\u001b[49m\u001b[43m(\u001b[49m\u001b[38;5;241;43m*\u001b[39;49m\u001b[43mlocator\u001b[49m\u001b[43m)\u001b[49m\n\u001b[1;32m    187\u001b[0m         \u001b[38;5;28;01mfor\u001b[39;00m element \u001b[38;5;129;01min\u001b[39;00m elements:\n\u001b[1;32m    188\u001b[0m             \u001b[38;5;28;01mif\u001b[39;00m _element_if_visible(element, visibility\u001b[38;5;241m=\u001b[39m\u001b[38;5;28;01mFalse\u001b[39;00m):\n",
      "File \u001b[0;32m~/Downloads/miniconda3/lib/python3.9/site-packages/selenium/webdriver/remote/webdriver.py:892\u001b[0m, in \u001b[0;36mWebDriver.find_elements\u001b[0;34m(self, by, value)\u001b[0m\n\u001b[1;32m    888\u001b[0m     value \u001b[38;5;241m=\u001b[39m \u001b[38;5;124m'\u001b[39m\u001b[38;5;124m[name=\u001b[39m\u001b[38;5;124m\"\u001b[39m\u001b[38;5;132;01m%s\u001b[39;00m\u001b[38;5;124m\"\u001b[39m\u001b[38;5;124m]\u001b[39m\u001b[38;5;124m'\u001b[39m \u001b[38;5;241m%\u001b[39m value\n\u001b[1;32m    890\u001b[0m \u001b[38;5;66;03m# Return empty list if driver returns null\u001b[39;00m\n\u001b[1;32m    891\u001b[0m \u001b[38;5;66;03m# See https://github.com/SeleniumHQ/selenium/issues/4555\u001b[39;00m\n\u001b[0;32m--> 892\u001b[0m \u001b[38;5;28;01mreturn\u001b[39;00m \u001b[38;5;28;43mself\u001b[39;49m\u001b[38;5;241;43m.\u001b[39;49m\u001b[43mexecute\u001b[49m\u001b[43m(\u001b[49m\u001b[43mCommand\u001b[49m\u001b[38;5;241;43m.\u001b[39;49m\u001b[43mFIND_ELEMENTS\u001b[49m\u001b[43m,\u001b[49m\u001b[43m \u001b[49m\u001b[43m{\u001b[49m\u001b[38;5;124;43m\"\u001b[39;49m\u001b[38;5;124;43musing\u001b[39;49m\u001b[38;5;124;43m\"\u001b[39;49m\u001b[43m:\u001b[49m\u001b[43m \u001b[49m\u001b[43mby\u001b[49m\u001b[43m,\u001b[49m\u001b[43m \u001b[49m\u001b[38;5;124;43m\"\u001b[39;49m\u001b[38;5;124;43mvalue\u001b[39;49m\u001b[38;5;124;43m\"\u001b[39;49m\u001b[43m:\u001b[49m\u001b[43m \u001b[49m\u001b[43mvalue\u001b[49m\u001b[43m}\u001b[49m\u001b[43m)\u001b[49m[\u001b[38;5;124m\"\u001b[39m\u001b[38;5;124mvalue\u001b[39m\u001b[38;5;124m\"\u001b[39m] \u001b[38;5;129;01mor\u001b[39;00m []\n",
      "File \u001b[0;32m~/Downloads/miniconda3/lib/python3.9/site-packages/selenium/webdriver/remote/webdriver.py:444\u001b[0m, in \u001b[0;36mWebDriver.execute\u001b[0;34m(self, driver_command, params)\u001b[0m\n\u001b[1;32m    442\u001b[0m response \u001b[38;5;241m=\u001b[39m \u001b[38;5;28mself\u001b[39m\u001b[38;5;241m.\u001b[39mcommand_executor\u001b[38;5;241m.\u001b[39mexecute(driver_command, params)\n\u001b[1;32m    443\u001b[0m \u001b[38;5;28;01mif\u001b[39;00m response:\n\u001b[0;32m--> 444\u001b[0m     \u001b[38;5;28;43mself\u001b[39;49m\u001b[38;5;241;43m.\u001b[39;49m\u001b[43merror_handler\u001b[49m\u001b[38;5;241;43m.\u001b[39;49m\u001b[43mcheck_response\u001b[49m\u001b[43m(\u001b[49m\u001b[43mresponse\u001b[49m\u001b[43m)\u001b[49m\n\u001b[1;32m    445\u001b[0m     response[\u001b[38;5;124m\"\u001b[39m\u001b[38;5;124mvalue\u001b[39m\u001b[38;5;124m\"\u001b[39m] \u001b[38;5;241m=\u001b[39m \u001b[38;5;28mself\u001b[39m\u001b[38;5;241m.\u001b[39m_unwrap_value(response\u001b[38;5;241m.\u001b[39mget(\u001b[38;5;124m\"\u001b[39m\u001b[38;5;124mvalue\u001b[39m\u001b[38;5;124m\"\u001b[39m, \u001b[38;5;28;01mNone\u001b[39;00m))\n\u001b[1;32m    446\u001b[0m     \u001b[38;5;28;01mreturn\u001b[39;00m response\n",
      "File \u001b[0;32m~/Downloads/miniconda3/lib/python3.9/site-packages/selenium/webdriver/remote/errorhandler.py:249\u001b[0m, in \u001b[0;36mErrorHandler.check_response\u001b[0;34m(self, response)\u001b[0m\n\u001b[1;32m    247\u001b[0m         alert_text \u001b[38;5;241m=\u001b[39m value[\u001b[38;5;124m\"\u001b[39m\u001b[38;5;124malert\u001b[39m\u001b[38;5;124m\"\u001b[39m]\u001b[38;5;241m.\u001b[39mget(\u001b[38;5;124m\"\u001b[39m\u001b[38;5;124mtext\u001b[39m\u001b[38;5;124m\"\u001b[39m)\n\u001b[1;32m    248\u001b[0m     \u001b[38;5;28;01mraise\u001b[39;00m exception_class(message, screen, stacktrace, alert_text)  \u001b[38;5;66;03m# type: ignore[call-arg]  # mypy is not smart enough here\u001b[39;00m\n\u001b[0;32m--> 249\u001b[0m \u001b[38;5;28;01mraise\u001b[39;00m exception_class(message, screen, stacktrace)\n",
      "\u001b[0;31mNoSuchWindowException\u001b[0m: Message: Browsing context has been discarded\nStacktrace:\nRemoteError@chrome://remote/content/shared/RemoteError.sys.mjs:8:8\nWebDriverError@chrome://remote/content/shared/webdriver/Errors.sys.mjs:180:5\nNoSuchWindowError@chrome://remote/content/shared/webdriver/Errors.sys.mjs:434:5\nassert.that/<@chrome://remote/content/shared/webdriver/Assert.sys.mjs:485:13\nassert.open@chrome://remote/content/shared/webdriver/Assert.sys.mjs:147:4\nGeckoDriver.prototype.findElements@chrome://remote/content/marionette/driver.sys.mjs:1525:15\ndespatch@chrome://remote/content/marionette/server.sys.mjs:303:40\nexecute@chrome://remote/content/marionette/server.sys.mjs:276:16\nonPacket/<@chrome://remote/content/marionette/server.sys.mjs:249:20\nonPacket@chrome://remote/content/marionette/server.sys.mjs:250:9\n_onJSONObjectReady/<@chrome://remote/content/marionette/transport.sys.mjs:496:20\n"
     ]
    }
   ],
   "source": [
    "#new way\n",
    "url = 'https://www.facebook.com/100068766080329/' \n",
    "driver = webdriver.Firefox(options=option)\n",
    "wait = WebDriverWait(driver, 30)\n",
    "driver.get(url)\n",
    "mask = WebDriverWait(driver, 30).until(EC.visibility_of_all_elements_located(('xpath', \"//*[@class='x1rg5ohu x1n2onr6 x3ajldb x1ja2u2z']\")))\n",
    "# try:\n",
    "#     #pfps.append(mask.get_attribute('href'))\n",
    "#     temp = mask[0].get_attribute('href')\n",
    "# except:\n",
    "#     pass\n",
    "\n",
    "print(mask[0])#.get_attribute('xlink:href'))\n",
    "#attrs = driver.execute_script('var items = {}; for (index = 0; index < arguments[0].attributes.length; ++index) { items[arguments[0].attributes[index].name] = arguments[0].attributes[index].value }; return items;', mask)\n",
    "#print(attrs)\n",
    "driver.quit()\n",
    "\n",
    "#print(temp)"
   ]
  },
  {
   "cell_type": "code",
   "execution_count": 7,
   "id": "27fa95ee",
   "metadata": {},
   "outputs": [
    {
     "ename": "UnexpectedResponse",
     "evalue": "Your request couldn't be processed",
     "output_type": "error",
     "traceback": [
      "\u001b[0;31m---------------------------------------------------------------------------\u001b[0m",
      "\u001b[0;31mUnexpectedResponse\u001b[0m                        Traceback (most recent call last)",
      "Input \u001b[0;32mIn [7]\u001b[0m, in \u001b[0;36m<cell line: 3>\u001b[0;34m()\u001b[0m\n\u001b[1;32m      1\u001b[0m profiles \u001b[38;5;241m=\u001b[39m pd\u001b[38;5;241m.\u001b[39mread_csv(\u001b[38;5;124m'\u001b[39m\u001b[38;5;124m./IDS_democrats_\u001b[39m\u001b[38;5;124m'\u001b[39m \u001b[38;5;241m+\u001b[39m \u001b[38;5;124m'\u001b[39m\u001b[38;5;124m2023-04-10\u001b[39m\u001b[38;5;124m'\u001b[39m \u001b[38;5;241m+\u001b[39m \u001b[38;5;124m'\u001b[39m\u001b[38;5;124m.csv\u001b[39m\u001b[38;5;124m'\u001b[39m)\n\u001b[1;32m      2\u001b[0m profiles \u001b[38;5;241m=\u001b[39m profiles[\u001b[38;5;124m'\u001b[39m\u001b[38;5;124mid\u001b[39m\u001b[38;5;124m'\u001b[39m]\n\u001b[0;32m----> 3\u001b[0m \u001b[43mget_profile\u001b[49m\u001b[43m(\u001b[49m\u001b[38;5;28;43mstr\u001b[39;49m\u001b[43m(\u001b[49m\u001b[43mprofiles\u001b[49m\u001b[43m[\u001b[49m\u001b[38;5;241;43m56\u001b[39;49m\u001b[43m]\u001b[49m\u001b[43m)\u001b[49m\u001b[43m,\u001b[49m\u001b[43m \u001b[49m\u001b[43mcookies\u001b[49m\u001b[38;5;241;43m=\u001b[39;49m\u001b[38;5;124;43m\"\u001b[39;49m\u001b[38;5;124;43mcookies-alt.json\u001b[39;49m\u001b[38;5;124;43m\"\u001b[39;49m\u001b[43m,\u001b[49m\u001b[43m \u001b[49m\u001b[43moptions\u001b[49m\u001b[38;5;241;43m=\u001b[39;49m\u001b[43m{\u001b[49m\u001b[38;5;124;43m\"\u001b[39;49m\u001b[38;5;124;43mposts_per_page\u001b[39;49m\u001b[38;5;124;43m\"\u001b[39;49m\u001b[43m:\u001b[49m\u001b[43m \u001b[49m\u001b[38;5;241;43m0\u001b[39;49m\u001b[43m}\u001b[49m\u001b[43m)\u001b[49m\n",
      "File \u001b[0;32m~/Downloads/miniconda3/lib/python3.9/site-packages/facebook_scraper/__init__.py:85\u001b[0m, in \u001b[0;36mget_profile\u001b[0;34m(account, **kwargs)\u001b[0m\n\u001b[1;32m     83\u001b[0m cookies \u001b[38;5;241m=\u001b[39m kwargs\u001b[38;5;241m.\u001b[39mpop(\u001b[38;5;124m'\u001b[39m\u001b[38;5;124mcookies\u001b[39m\u001b[38;5;124m'\u001b[39m, \u001b[38;5;28;01mNone\u001b[39;00m)\n\u001b[1;32m     84\u001b[0m set_cookies(cookies)\n\u001b[0;32m---> 85\u001b[0m \u001b[38;5;28;01mreturn\u001b[39;00m \u001b[43m_scraper\u001b[49m\u001b[38;5;241;43m.\u001b[39;49m\u001b[43mget_profile\u001b[49m\u001b[43m(\u001b[49m\u001b[43maccount\u001b[49m\u001b[43m,\u001b[49m\u001b[43m \u001b[49m\u001b[38;5;241;43m*\u001b[39;49m\u001b[38;5;241;43m*\u001b[39;49m\u001b[43mkwargs\u001b[49m\u001b[43m)\u001b[49m\n",
      "File \u001b[0;32m~/Downloads/miniconda3/lib/python3.9/site-packages/facebook_scraper/facebook_scraper.py:403\u001b[0m, in \u001b[0;36mFacebookScraper.get_profile\u001b[0;34m(self, account, **kwargs)\u001b[0m\n\u001b[1;32m    401\u001b[0m about_url \u001b[38;5;241m=\u001b[39m utils\u001b[38;5;241m.\u001b[39murljoin(FB_MOBILE_BASE_URL, \u001b[38;5;124mf\u001b[39m\u001b[38;5;124m'\u001b[39m\u001b[38;5;124m/\u001b[39m\u001b[38;5;132;01m{\u001b[39;00maccount\u001b[38;5;132;01m}\u001b[39;00m\u001b[38;5;124m/about/\u001b[39m\u001b[38;5;124m'\u001b[39m)\n\u001b[1;32m    402\u001b[0m logger\u001b[38;5;241m.\u001b[39mdebug(\u001b[38;5;124mf\u001b[39m\u001b[38;5;124m\"\u001b[39m\u001b[38;5;124mRequesting page from: \u001b[39m\u001b[38;5;132;01m{\u001b[39;00mabout_url\u001b[38;5;132;01m}\u001b[39;00m\u001b[38;5;124m\"\u001b[39m)\n\u001b[0;32m--> 403\u001b[0m response \u001b[38;5;241m=\u001b[39m \u001b[38;5;28;43mself\u001b[39;49m\u001b[38;5;241;43m.\u001b[39;49m\u001b[43mget\u001b[49m\u001b[43m(\u001b[49m\u001b[43mabout_url\u001b[49m\u001b[43m)\u001b[49m\n\u001b[1;32m    404\u001b[0m match \u001b[38;5;241m=\u001b[39m re\u001b[38;5;241m.\u001b[39msearch(\u001b[38;5;124mr\u001b[39m\u001b[38;5;124m'\u001b[39m\u001b[38;5;124mentity_id:(\u001b[39m\u001b[38;5;124m\\\u001b[39m\u001b[38;5;124md+)\u001b[39m\u001b[38;5;124m'\u001b[39m, response\u001b[38;5;241m.\u001b[39mhtml\u001b[38;5;241m.\u001b[39mhtml)\n\u001b[1;32m    405\u001b[0m \u001b[38;5;28;01mif\u001b[39;00m match:\n",
      "File \u001b[0;32m~/Downloads/miniconda3/lib/python3.9/site-packages/facebook_scraper/facebook_scraper.py:927\u001b[0m, in \u001b[0;36mFacebookScraper.get\u001b[0;34m(self, url, **kwargs)\u001b[0m\n\u001b[1;32m    925\u001b[0m     \u001b[38;5;28;01mraise\u001b[39;00m exceptions\u001b[38;5;241m.\u001b[39mNotFound(title\u001b[38;5;241m.\u001b[39mtext)\n\u001b[1;32m    926\u001b[0m \u001b[38;5;28;01melif\u001b[39;00m title\u001b[38;5;241m.\u001b[39mtext\u001b[38;5;241m.\u001b[39mlower() \u001b[38;5;241m==\u001b[39m \u001b[38;5;124m\"\u001b[39m\u001b[38;5;124merror\u001b[39m\u001b[38;5;124m\"\u001b[39m:\n\u001b[0;32m--> 927\u001b[0m     \u001b[38;5;28;01mraise\u001b[39;00m exceptions\u001b[38;5;241m.\u001b[39mUnexpectedResponse(\u001b[38;5;124m\"\u001b[39m\u001b[38;5;124mYour request couldn\u001b[39m\u001b[38;5;124m'\u001b[39m\u001b[38;5;124mt be processed\u001b[39m\u001b[38;5;124m\"\u001b[39m)\n\u001b[1;32m    928\u001b[0m \u001b[38;5;28;01melif\u001b[39;00m title\u001b[38;5;241m.\u001b[39mtext\u001b[38;5;241m.\u001b[39mlower() \u001b[38;5;129;01min\u001b[39;00m temp_ban_titles:\n\u001b[1;32m    929\u001b[0m     \u001b[38;5;28;01mraise\u001b[39;00m exceptions\u001b[38;5;241m.\u001b[39mTemporarilyBanned(title\u001b[38;5;241m.\u001b[39mtext)\n",
      "\u001b[0;31mUnexpectedResponse\u001b[0m: Your request couldn't be processed"
     ]
    }
   ],
   "source": [
    "profiles = pd.read_csv('./IDS_democrats_' + '2023-04-10' + '.csv')\n",
    "profiles = profiles['id']\n",
    "get_profile(str(profiles[56]), cookies=\"cookies-alt.json\", options={\"posts_per_page\": 0}) "
   ]
  },
  {
   "cell_type": "markdown",
   "id": "c3ea4831",
   "metadata": {},
   "source": [
    "## Scraping Republicans"
   ]
  },
  {
   "cell_type": "code",
   "execution_count": 5,
   "id": "e468c421",
   "metadata": {},
   "outputs": [
    {
     "name": "stdout",
     "output_type": "stream",
     "text": [
      "2615\n"
     ]
    }
   ],
   "source": [
    "#url = 'https://www.facebook.com/groups/RU4TX/members'\n",
    "url = 'https://www.facebook.com/groups/CaliforniaRepublicans/members'\n",
    "driver = webdriver.Firefox(options=option)\n",
    "wait = WebDriverWait(driver, 30)\n",
    "driver.get(url)\n",
    "email_field = wait.until(EC.visibility_of_element_located((By.NAME, 'email')))\n",
    "email_field.send_keys(user)\n",
    "pass_field = wait.until(EC.visibility_of_element_located((By.NAME, 'pass')))\n",
    "pass_field.send_keys(passw)\n",
    "pass_field.send_keys(Keys.RETURN)\n",
    "\n",
    "time.sleep(5)\n",
    "\n",
    "#scrolling down\n",
    "SCROLL_PAUSE_TIME = 0.5\n",
    "\n",
    "# Get scroll height\n",
    "last_height = driver.execute_script(\"return document.body.scrollHeight\")\n",
    "\n",
    "for i in range(1000):\n",
    "    # Scroll down to bottom\n",
    "    driver.execute_script(\"window.scrollTo(0, document.body.scrollHeight);\")\n",
    "\n",
    "    # Wait to load page\n",
    "    time.sleep(SCROLL_PAUSE_TIME)\n",
    "\n",
    "    # Calculate new scroll height and compare with last scroll height\n",
    "#     new_height = driver.execute_script(\"return document.body.scrollHeight\")\n",
    "#     if new_height == last_height:\n",
    "#         break\n",
    "#     last_height = new_height\n",
    "\n",
    "    \n",
    "\n",
    "#getting profile urls\n",
    "lst = WebDriverWait(driver, 30).until(EC.visibility_of_all_elements_located(('xpath', \"//*[@class='x1lq5wgf xgqcy7u x30kzoy x9jhf4c x1lliihq']\")))\n",
    "\n",
    "data = []\n",
    "profiles = []\n",
    "for i, value in enumerate(lst):\n",
    "    try:\n",
    "        data.append(value.find_elements(\"xpath\", \"//*[@class='x1i10hfl x1qjc9v5 xjbqb8w xjqpnuy xa49m3k xqeqjp1 x2hbi6w x13fuv20 xu3j5b3 x1q0q8m5 x26u7qi x972fbf xcfux6l x1qhh985 xm0m39n x9f619 x1ypdohk xdl72j9 x2lah0s xe8uvvx xdj266r x11i5rnm xat24cr x1mh8g0r x2lwn1j xeuugli xexx8yu x4uap5 x18d9i69 xkhd6sd x1n2onr6 x16tdsg8 x1hl2dhg xggy1nq x1ja2u2z x1t137rt x1o1ewxj x3x9cwd x1e5q0jg x13rtm0m x1q0g3np x87ps6o x1lku1pv x1rg5ohu x1a2a7pz']\")[i].get_attribute('href'))\n",
    "        profiles.append(re.sub('[^0-9]','', re.sub('.*user\\/', '', data[i])))\n",
    "    except:\n",
    "        pass\n",
    "    \n",
    "driver.quit()\n",
    "\n",
    "\n",
    "print(len(profiles))"
   ]
  },
  {
   "cell_type": "code",
   "execution_count": 8,
   "id": "cadc88a2",
   "metadata": {},
   "outputs": [],
   "source": [
    "#save it\n",
    "import datetime\n",
    "today = datetime.datetime.today().strftime('%Y-%m-%d')\n",
    "ids_save = pd.DataFrame({'id': profiles, 'href': data})\n",
    "ids_save.to_csv('IDS_republicans_' + str(today) + '.csv', index = True)"
   ]
  },
  {
   "cell_type": "code",
   "execution_count": 9,
   "id": "83d8d992",
   "metadata": {},
   "outputs": [
    {
     "name": "stderr",
     "output_type": "stream",
     "text": [
      "/home/jonah/Downloads/miniconda3/lib/python3.9/site-packages/facebook_scraper/facebook_scraper.py:912: UserWarning: Facebook says 'Unsupported Browser'\n",
      "  warnings.warn(f\"Facebook says 'Unsupported Browser'\")\n"
     ]
    },
    {
     "name": "stdout",
     "output_type": "stream",
     "text": [
      "0 out of 2656 ... Check: 1\n"
     ]
    },
    {
     "name": "stderr",
     "output_type": "stream",
     "text": [
      "/home/jonah/Downloads/miniconda3/lib/python3.9/site-packages/dateparser/freshness_date_parser.py:76: PytzUsageWarning: The localize method is no longer necessary, as this time zone supports the fold attribute (PEP 495). For more details on migrating to a PEP 495-compliant implementation, see https://pytz-deprecation-shim.readthedocs.io/en/latest/migration.html\n",
      "  now = self.get_local_tz().localize(now)\n",
      "/home/jonah/Downloads/miniconda3/lib/python3.9/site-packages/facebook_scraper/facebook_scraper.py:908: UserWarning: Facebook served mbasic/noscript content unexpectedly on https://m.facebook.com/timeline/app_collection/?collection_token=100051434944232%3A103382489711013%3A33&paipv=0&eav=Afaw7JWhmgP6gSzJJrKg94kLfjhYi7oKqHQR_2nu8UY4UbOPjjMtDhiYq8LHoqIOMOQ&_rdr\n",
      "  warnings.warn(\n",
      "/home/jonah/Downloads/miniconda3/lib/python3.9/site-packages/facebook_scraper/facebook_scraper.py:908: UserWarning: Facebook served mbasic/noscript content unexpectedly on https://m.facebook.com/timeline/app_collection/?collection_token=100075473293288%3A103382489711013%3A33&paipv=0&eav=AfZjAHVgeaJPi1NhCkMiaSiVTAfEhIr8EsUqJLE1n6eYDU-kd_G_YQB06myg4ijIku4&_rdr\n",
      "  warnings.warn(\n",
      "/home/jonah/Downloads/miniconda3/lib/python3.9/site-packages/facebook_scraper/facebook_scraper.py:908: UserWarning: Facebook served mbasic/noscript content unexpectedly on https://m.facebook.com/timeline/app_collection/?collection_token=100090063464510%3A103382489711013%3A33&paipv=0&eav=AfbNcRmKlum2qYW2pLgPfNFpRWPhQarcRJkvve4ITM5pXi_ufar1I3aumh3GB5Ab-fg&_rdr\n",
      "  warnings.warn(\n"
     ]
    },
    {
     "name": "stdout",
     "output_type": "stream",
     "text": [
      "100 out of 2656 ... Check: 99\n",
      "200 out of 2656 ... Check: 198\n",
      "300 out of 2656 ... Check: 293\n",
      "400 out of 2656 ... Check: 391\n",
      "500 out of 2656 ... Check: 485\n",
      "600 out of 2656 ... Check: 585\n",
      "700 out of 2656 ... Check: 683\n",
      "800 out of 2656 ... Check: 783\n",
      "900 out of 2656 ... Check: 883\n",
      "1000 out of 2656 ... Check: 981\n",
      "1100 out of 2656 ... Check: 1081\n",
      "1200 out of 2656 ... Check: 1181\n",
      "1300 out of 2656 ... Check: 1281\n",
      "1400 out of 2656 ... Check: 1379\n",
      "1500 out of 2656 ... Check: 1478\n",
      "1600 out of 2656 ... Check: 1570\n",
      "1700 out of 2656 ... Check: 1668\n",
      "1800 out of 2656 ... Check: 1767\n",
      "1900 out of 2656 ... Check: 1866\n",
      "2000 out of 2656 ... Check: 1945\n",
      "2100 out of 2656 ... Check: 2042\n",
      "2200 out of 2656 ... Check: 2138\n",
      "2300 out of 2656 ... Check: 2142\n",
      "2400 out of 2656 ... Check: 2144\n",
      "2500 out of 2656 ... Check: 2148\n",
      "2600 out of 2656 ... Check: 2150\n"
     ]
    },
    {
     "data": {
      "text/plain": [
       "2154"
      ]
     },
     "execution_count": 9,
     "metadata": {},
     "output_type": "execute_result"
    }
   ],
   "source": [
    "#get datas\n",
    "profiles = pd.read_csv('./IDS_republicans_' + '2023-04-05' + '.csv')\n",
    "profiles = profiles['id']\n",
    "\n",
    "ids = []\n",
    "pfp = []\n",
    "status = []\n",
    "friends = []\n",
    "followers = []\n",
    "following = []\n",
    "name = []\n",
    "\n",
    "for i, value in enumerate(profiles):\n",
    "    try:\n",
    "        #get profile\n",
    "        temp = get_profile(str(profiles[i]), cookies=\"cookies-alt.json\", options={\"posts_per_page\": 0}) \n",
    "        #get relationship status\n",
    "        pfp.append(temp.get('profile_picture'))\n",
    "        status.append(temp.get('Relationship'))\n",
    "        ids.append(value)\n",
    "        friends.append(temp.get('Friend_count'))\n",
    "        followers.append(temp.get('Follower_count'))\n",
    "        following.append(temp.get('Following_count'))\n",
    "        name.append(temp.get('Name'))\n",
    "        time.sleep(0.8)\n",
    "        \n",
    "    except:\n",
    "        pass\n",
    "    \n",
    "    if i%100 == 0:\n",
    "        print(str(i), 'out of', str(len(profiles)), '... Check:', str(len(ids)))\n",
    "    \n",
    "#create dataframe\n",
    "df = pd.DataFrame({'id': ids, 'name': name, 'pfp': pfp, 'status': status, 'party': ['r']*len(ids), 'friends': friends, 'followers': followers, 'following': following})\n",
    "\n",
    "#save it\n",
    "import datetime\n",
    "today = datetime.datetime.today().strftime('%Y-%m-%d')\n",
    "df.to_csv('republicans_' + str(today) + '.csv', index = True)\n",
    "len(df.index)"
   ]
  },
  {
   "cell_type": "code",
   "execution_count": null,
   "id": "e6f8469a",
   "metadata": {},
   "outputs": [],
   "source": [
    "profiles[1]"
   ]
  },
  {
   "cell_type": "code",
   "execution_count": 8,
   "id": "fe794ef7",
   "metadata": {},
   "outputs": [
    {
     "name": "stderr",
     "output_type": "stream",
     "text": [
      "/home/jonah/Downloads/miniconda3/lib/python3.9/site-packages/facebook_scraper/facebook_scraper.py:912: UserWarning: Facebook says 'Unsupported Browser'\n",
      "  warnings.warn(f\"Facebook says 'Unsupported Browser'\")\n"
     ]
    },
    {
     "data": {
      "text/plain": [
       "{'Friend_count': None,\n",
       " 'Follower_count': None,\n",
       " 'Following_count': None,\n",
       " 'id': '105411447689390',\n",
       " 'Name': 'Marbles Mahoney - About'}"
      ]
     },
     "execution_count": 8,
     "metadata": {},
     "output_type": "execute_result"
    }
   ],
   "source": [
    "profiles = pd.read_csv('./IDS_democrats_' + '2023-04-05' + '.csv')\n",
    "profiles = profiles['id']\n",
    "get_profile(str(profiles[3]), cookies=\"cookies-alt.json\", options={\"posts_per_page\": 0}) "
   ]
  },
  {
   "cell_type": "code",
   "execution_count": null,
   "id": "173aa99b",
   "metadata": {},
   "outputs": [],
   "source": []
  }
 ],
 "metadata": {
  "kernelspec": {
   "display_name": "Python 3",
   "language": "python",
   "name": "python3"
  },
  "language_info": {
   "codemirror_mode": {
    "name": "ipython",
    "version": 3
   },
   "file_extension": ".py",
   "mimetype": "text/x-python",
   "name": "python",
   "nbconvert_exporter": "python",
   "pygments_lexer": "ipython3",
   "version": "3.9.12"
  }
 },
 "nbformat": 4,
 "nbformat_minor": 5
}
