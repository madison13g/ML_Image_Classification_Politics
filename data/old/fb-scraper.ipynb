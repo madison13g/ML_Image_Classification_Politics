{
 "cells": [
  {
   "cell_type": "code",
   "execution_count": 1,
   "id": "fdf3d692",
   "metadata": {},
   "outputs": [],
   "source": [
    "import pandas as pd\n",
    "import time\n",
    "import re"
   ]
  },
  {
   "cell_type": "code",
   "execution_count": 2,
   "id": "c5077b41",
   "metadata": {},
   "outputs": [],
   "source": [
    "from selenium import webdriver\n",
    "from selenium.webdriver.support.ui import WebDriverWait\n",
    "from selenium.webdriver.common.by import By\n",
    "from selenium.webdriver.support import expected_conditions as EC\n",
    "from selenium.webdriver.common.keys import Keys\n",
    "from selenium.webdriver.firefox.options import Options\n",
    "from selenium.webdriver.common.action_chains import ActionChains\n",
    "\n",
    "#options\n",
    "option = Options()\n",
    "option.add_argument(\"--disable-infobars\")\n",
    "option.add_argument(\"start-maximized\")\n",
    "option.add_argument(\"--disable-extensions\")"
   ]
  },
  {
   "cell_type": "code",
   "execution_count": 3,
   "id": "cc05e3fa",
   "metadata": {},
   "outputs": [],
   "source": [
    "#user = 'denverhues123@gmail.com'\n",
    "#passw = 'u77$58YPPAah'\n",
    "user = 'fb-scraper333@proton.me'\n",
    "passw = 'z.18Y:s8K7Z3'"
   ]
  },
  {
   "cell_type": "markdown",
   "id": "ad4f6482",
   "metadata": {},
   "source": [
    "## Scraping Democrats"
   ]
  },
  {
   "cell_type": "code",
   "execution_count": 4,
   "id": "5c8dc75c",
   "metadata": {},
   "outputs": [
    {
     "name": "stdout",
     "output_type": "stream",
     "text": [
      "2886\n"
     ]
    }
   ],
   "source": [
    "#url = 'https://www.facebook.com/groups/111188856119651/members' #Democratic Voices for Biden/Harris 2024\n",
    "url = 'https://www.facebook.com/groups/203489800225585/members' #democratic america\n",
    "driver = webdriver.Firefox(options=option)\n",
    "wait = WebDriverWait(driver, 30)\n",
    "driver.get(url)\n",
    "email_field = wait.until(EC.visibility_of_element_located((By.NAME, 'email')))\n",
    "email_field.send_keys(user)\n",
    "pass_field = wait.until(EC.visibility_of_element_located((By.NAME, 'pass')))\n",
    "pass_field.send_keys(passw)\n",
    "pass_field.send_keys(Keys.RETURN)\n",
    "\n",
    "time.sleep(5)\n",
    "\n",
    "#scrolling down\n",
    "SCROLL_PAUSE_TIME = 0.5\n",
    "\n",
    "# Get scroll height\n",
    "last_height = driver.execute_script(\"return document.body.scrollHeight\")\n",
    "\n",
    "for i in range(1000):\n",
    "    # Scroll down to bottom\n",
    "    driver.execute_script(\"window.scrollTo(0, document.body.scrollHeight);\")\n",
    "\n",
    "    # Wait to load page\n",
    "    time.sleep(SCROLL_PAUSE_TIME)\n",
    "\n",
    "    # Calculate new scroll height and compare with last scroll height\n",
    "#     new_height = driver.execute_script(\"return document.body.scrollHeight\")\n",
    "#     if new_height == last_height:\n",
    "#         break\n",
    "#     last_height = new_height\n",
    "\n",
    "    \n",
    "\n",
    "#getting profile urls\n",
    "lst = WebDriverWait(driver, 30).until(EC.visibility_of_all_elements_located(('xpath', \"//*[@class='x1lq5wgf xgqcy7u x30kzoy x9jhf4c x1lliihq']\")))\n",
    "\n",
    "data = []\n",
    "profiles = []\n",
    "for i, value in enumerate(lst):\n",
    "    try:\n",
    "        data.append(value.find_elements(\"xpath\", \"//*[@class='x1i10hfl x1qjc9v5 xjbqb8w xjqpnuy xa49m3k xqeqjp1 x2hbi6w x13fuv20 xu3j5b3 x1q0q8m5 x26u7qi x972fbf xcfux6l x1qhh985 xm0m39n x9f619 x1ypdohk xdl72j9 x2lah0s xe8uvvx xdj266r x11i5rnm xat24cr x1mh8g0r x2lwn1j xeuugli xexx8yu x4uap5 x18d9i69 xkhd6sd x1n2onr6 x16tdsg8 x1hl2dhg xggy1nq x1ja2u2z x1t137rt x1o1ewxj x3x9cwd x1e5q0jg x13rtm0m x1q0g3np x87ps6o x1lku1pv x1rg5ohu x1a2a7pz']\")[i].get_attribute('href'))\n",
    "        profiles.append(re.sub('[^0-9]','', re.sub('.*user\\/', '', data[i])))\n",
    "    except:\n",
    "        pass\n",
    "    \n",
    "driver.quit()\n",
    "\n",
    "\n",
    "print(len(profiles))"
   ]
  },
  {
   "cell_type": "code",
   "execution_count": 5,
   "id": "94320058",
   "metadata": {},
   "outputs": [],
   "source": [
    "import datetime\n",
    "today = datetime.datetime.today().strftime('%Y-%m-%d')\n",
    "ids_save = pd.DataFrame({'id': profiles, 'href': data})\n",
    "ids_save.to_csv('IDS_democrats_' + str(today) + '.csv', index = True)"
   ]
  },
  {
   "cell_type": "code",
   "execution_count": 19,
   "id": "5665be3f",
   "metadata": {},
   "outputs": [],
   "source": [
    "import facebook_scraper as fs\n",
    "from facebook_scraper import get_profile\n",
    "#https://github.com/kevinzg/facebook-scraper\n",
    "\n",
    "#add user agent\n",
    "from facebook_scraper import *\n",
    "set_user_agent('Mozilla/5.0 (X11; Linux x86_64; rv:109.0) Gecko/20100101 Firefox/111.0')"
   ]
  },
  {
   "cell_type": "code",
   "execution_count": 5,
   "id": "c91f3182",
   "metadata": {
    "scrolled": false
   },
   "outputs": [
    {
     "name": "stdout",
     "output_type": "stream",
     "text": [
      "0 out of 2886 ... Check: 0\n",
      "100 out of 2886 ... Check: 0\n",
      "200 out of 2886 ... Check: 0\n",
      "300 out of 2886 ... Check: 0\n",
      "400 out of 2886 ... Check: 0\n",
      "500 out of 2886 ... Check: 0\n",
      "600 out of 2886 ... Check: 0\n",
      "700 out of 2886 ... Check: 0\n",
      "800 out of 2886 ... Check: 0\n",
      "900 out of 2886 ... Check: 0\n",
      "1000 out of 2886 ... Check: 0\n",
      "1100 out of 2886 ... Check: 0\n",
      "1200 out of 2886 ... Check: 0\n",
      "1300 out of 2886 ... Check: 0\n",
      "1400 out of 2886 ... Check: 0\n",
      "1500 out of 2886 ... Check: 0\n",
      "1600 out of 2886 ... Check: 0\n",
      "1700 out of 2886 ... Check: 0\n",
      "1800 out of 2886 ... Check: 0\n",
      "1900 out of 2886 ... Check: 0\n",
      "2000 out of 2886 ... Check: 0\n",
      "2100 out of 2886 ... Check: 0\n",
      "2200 out of 2886 ... Check: 0\n",
      "2300 out of 2886 ... Check: 0\n",
      "2400 out of 2886 ... Check: 0\n",
      "2500 out of 2886 ... Check: 0\n",
      "2600 out of 2886 ... Check: 0\n",
      "2700 out of 2886 ... Check: 0\n",
      "2800 out of 2886 ... Check: 0\n"
     ]
    },
    {
     "data": {
      "text/plain": [
       "0"
      ]
     },
     "execution_count": 5,
     "metadata": {},
     "output_type": "execute_result"
    }
   ],
   "source": [
    "#get datas\n",
    "profiles = pd.read_csv('./IDS_democrats_' + '2023-04-10' + '.csv')\n",
    "profiles = profiles['id']\n",
    "ids = []\n",
    "pfp = []\n",
    "status = []\n",
    "friends = []\n",
    "followers = []\n",
    "following = []\n",
    "name = []\n",
    "\n",
    "for i, value in enumerate(profiles):\n",
    "    try:\n",
    "        #get profile\n",
    "        temp = get_profile(str(profiles[i]), cookies=\"cookies-alt.json\", options={\"posts_per_page\": 0}) \n",
    "        #get relationship status\n",
    "        pfp.append(temp.get('profile_picture'))\n",
    "        status.append(temp.get('Relationship'))\n",
    "        ids.append(value)\n",
    "        friends.append(temp.get('Friend_count'))\n",
    "        followers.append(temp.get('Follower_count'))\n",
    "        following.append(temp.get('Following_count'))\n",
    "        name.append(temp.get('Name'))\n",
    "        time.sleep(1.2)\n",
    "        \n",
    "    except:\n",
    "        pass\n",
    "        \n",
    "    if i%100 == 0:\n",
    "        print(str(i), 'out of', str(len(profiles)), '... Check:', str(len(name)))\n",
    "    \n",
    "#create dataframe\n",
    "df = pd.DataFrame({'id': ids, 'name': name, 'pfp': pfp, 'status': status, 'party': ['d']*len(ids), 'friends': friends, 'followers': followers, 'following': following})\n",
    "\n",
    "#save it\n",
    "import datetime\n",
    "today = datetime.datetime.today().strftime('%Y-%m-%d')\n",
    "df.to_csv('democrats_' + str(today) + '.csv', index = True)\n",
    "len(df.index)"
   ]
  },
  {
   "cell_type": "code",
   "execution_count": 20,
   "id": "27fa95ee",
   "metadata": {},
   "outputs": [
    {
     "ename": "FileNotFoundError",
     "evalue": "[Errno 2] No such file or directory: 'cookies-alt.json'",
     "output_type": "error",
     "traceback": [
      "\u001b[0;31m---------------------------------------------------------------------------\u001b[0m",
      "\u001b[0;31mFileNotFoundError\u001b[0m                         Traceback (most recent call last)",
      "Input \u001b[0;32mIn [20]\u001b[0m, in \u001b[0;36m<cell line: 3>\u001b[0;34m()\u001b[0m\n\u001b[1;32m      1\u001b[0m profiles \u001b[38;5;241m=\u001b[39m pd\u001b[38;5;241m.\u001b[39mread_csv(\u001b[38;5;124m'\u001b[39m\u001b[38;5;124m./IDS_democrats_\u001b[39m\u001b[38;5;124m'\u001b[39m \u001b[38;5;241m+\u001b[39m \u001b[38;5;124m'\u001b[39m\u001b[38;5;124m2023-04-10\u001b[39m\u001b[38;5;124m'\u001b[39m \u001b[38;5;241m+\u001b[39m \u001b[38;5;124m'\u001b[39m\u001b[38;5;124m.csv\u001b[39m\u001b[38;5;124m'\u001b[39m)\n\u001b[1;32m      2\u001b[0m profiles \u001b[38;5;241m=\u001b[39m profiles[\u001b[38;5;124m'\u001b[39m\u001b[38;5;124mid\u001b[39m\u001b[38;5;124m'\u001b[39m]\n\u001b[0;32m----> 3\u001b[0m \u001b[43mget_profile\u001b[49m\u001b[43m(\u001b[49m\u001b[38;5;28;43mstr\u001b[39;49m\u001b[43m(\u001b[49m\u001b[43mprofiles\u001b[49m\u001b[43m[\u001b[49m\u001b[38;5;241;43m56\u001b[39;49m\u001b[43m]\u001b[49m\u001b[43m)\u001b[49m\u001b[43m,\u001b[49m\u001b[43m \u001b[49m\u001b[43mcookies\u001b[49m\u001b[38;5;241;43m=\u001b[39;49m\u001b[38;5;124;43m\"\u001b[39;49m\u001b[38;5;124;43mcookies-alt.json\u001b[39;49m\u001b[38;5;124;43m\"\u001b[39;49m\u001b[43m,\u001b[49m\u001b[43m \u001b[49m\u001b[43moptions\u001b[49m\u001b[38;5;241;43m=\u001b[39;49m\u001b[43m{\u001b[49m\u001b[38;5;124;43m\"\u001b[39;49m\u001b[38;5;124;43mposts_per_page\u001b[39;49m\u001b[38;5;124;43m\"\u001b[39;49m\u001b[43m:\u001b[49m\u001b[43m \u001b[49m\u001b[38;5;241;43m0\u001b[39;49m\u001b[43m}\u001b[49m\u001b[43m)\u001b[49m\n",
      "File \u001b[0;32m~/Downloads/miniconda3/lib/python3.9/site-packages/facebook_scraper/__init__.py:84\u001b[0m, in \u001b[0;36mget_profile\u001b[0;34m(account, **kwargs)\u001b[0m\n\u001b[1;32m     82\u001b[0m _scraper\u001b[38;5;241m.\u001b[39mrequests_kwargs[\u001b[38;5;124m'\u001b[39m\u001b[38;5;124mtimeout\u001b[39m\u001b[38;5;124m'\u001b[39m] \u001b[38;5;241m=\u001b[39m kwargs\u001b[38;5;241m.\u001b[39mpop(\u001b[38;5;124m'\u001b[39m\u001b[38;5;124mtimeout\u001b[39m\u001b[38;5;124m'\u001b[39m, DEFAULT_REQUESTS_TIMEOUT)\n\u001b[1;32m     83\u001b[0m cookies \u001b[38;5;241m=\u001b[39m kwargs\u001b[38;5;241m.\u001b[39mpop(\u001b[38;5;124m'\u001b[39m\u001b[38;5;124mcookies\u001b[39m\u001b[38;5;124m'\u001b[39m, \u001b[38;5;28;01mNone\u001b[39;00m)\n\u001b[0;32m---> 84\u001b[0m \u001b[43mset_cookies\u001b[49m\u001b[43m(\u001b[49m\u001b[43mcookies\u001b[49m\u001b[43m)\u001b[49m\n\u001b[1;32m     85\u001b[0m \u001b[38;5;28;01mreturn\u001b[39;00m _scraper\u001b[38;5;241m.\u001b[39mget_profile(account, \u001b[38;5;241m*\u001b[39m\u001b[38;5;241m*\u001b[39mkwargs)\n",
      "File \u001b[0;32m~/Downloads/miniconda3/lib/python3.9/site-packages/facebook_scraper/__init__.py:40\u001b[0m, in \u001b[0;36mset_cookies\u001b[0;34m(cookies)\u001b[0m\n\u001b[1;32m     38\u001b[0m \u001b[38;5;28;01melse\u001b[39;00m:\n\u001b[1;32m     39\u001b[0m     \u001b[38;5;28;01mtry\u001b[39;00m:\n\u001b[0;32m---> 40\u001b[0m         cookies \u001b[38;5;241m=\u001b[39m \u001b[43mparse_cookie_file\u001b[49m\u001b[43m(\u001b[49m\u001b[43mcookies\u001b[49m\u001b[43m)\u001b[49m\n\u001b[1;32m     41\u001b[0m     \u001b[38;5;28;01mexcept\u001b[39;00m \u001b[38;5;167;01mValueError\u001b[39;00m \u001b[38;5;28;01mas\u001b[39;00m e:\n\u001b[1;32m     42\u001b[0m         \u001b[38;5;28;01mraise\u001b[39;00m exceptions\u001b[38;5;241m.\u001b[39mInvalidCookies(\u001b[38;5;124mf\u001b[39m\u001b[38;5;124m\"\u001b[39m\u001b[38;5;124mCookies are in an invalid format: \u001b[39m\u001b[38;5;132;01m{\u001b[39;00me\u001b[38;5;132;01m}\u001b[39;00m\u001b[38;5;124m\"\u001b[39m)\n",
      "File \u001b[0;32m~/Downloads/miniconda3/lib/python3.9/site-packages/facebook_scraper/utils.py:221\u001b[0m, in \u001b[0;36mparse_cookie_file\u001b[0;34m(filename)\u001b[0m\n\u001b[1;32m    218\u001b[0m \u001b[38;5;28;01mdef\u001b[39;00m \u001b[38;5;21mparse_cookie_file\u001b[39m(filename: \u001b[38;5;28mstr\u001b[39m) \u001b[38;5;241m-\u001b[39m\u001b[38;5;241m>\u001b[39m RequestsCookieJar:\n\u001b[1;32m    219\u001b[0m     jar \u001b[38;5;241m=\u001b[39m RequestsCookieJar()\n\u001b[0;32m--> 221\u001b[0m     \u001b[38;5;28;01mwith\u001b[39;00m \u001b[38;5;28;43mopen\u001b[39;49m\u001b[43m(\u001b[49m\u001b[43mfilename\u001b[49m\u001b[43m,\u001b[49m\u001b[43m \u001b[49m\u001b[43mmode\u001b[49m\u001b[38;5;241;43m=\u001b[39;49m\u001b[38;5;124;43m'\u001b[39;49m\u001b[38;5;124;43mrt\u001b[39;49m\u001b[38;5;124;43m'\u001b[39;49m\u001b[43m)\u001b[49m \u001b[38;5;28;01mas\u001b[39;00m file:\n\u001b[1;32m    222\u001b[0m         data \u001b[38;5;241m=\u001b[39m file\u001b[38;5;241m.\u001b[39mread()\n\u001b[1;32m    224\u001b[0m     \u001b[38;5;28;01mtry\u001b[39;00m:\n",
      "\u001b[0;31mFileNotFoundError\u001b[0m: [Errno 2] No such file or directory: 'cookies-alt.json'"
     ]
    }
   ],
   "source": [
    "profiles = pd.read_csv('./IDS_democrats_' + '2023-04-10' + '.csv')\n",
    "profiles = profiles['id']\n",
    "get_profile(str(profiles[56]), cookies=\"cookies-alt.json\", options={\"posts_per_page\": 0}) "
   ]
  },
  {
   "cell_type": "markdown",
   "id": "c3ea4831",
   "metadata": {},
   "source": [
    "## Scraping Republicans"
   ]
  },
  {
   "cell_type": "code",
   "execution_count": 5,
   "id": "e468c421",
   "metadata": {},
   "outputs": [
    {
     "name": "stdout",
     "output_type": "stream",
     "text": [
      "2615\n"
     ]
    }
   ],
   "source": [
    "#url = 'https://www.facebook.com/groups/RU4TX/members'\n",
    "url = 'https://www.facebook.com/groups/CaliforniaRepublicans/members'\n",
    "driver = webdriver.Firefox(options=option)\n",
    "wait = WebDriverWait(driver, 30)\n",
    "driver.get(url)\n",
    "email_field = wait.until(EC.visibility_of_element_located((By.NAME, 'email')))\n",
    "email_field.send_keys(user)\n",
    "pass_field = wait.until(EC.visibility_of_element_located((By.NAME, 'pass')))\n",
    "pass_field.send_keys(passw)\n",
    "pass_field.send_keys(Keys.RETURN)\n",
    "\n",
    "time.sleep(5)\n",
    "\n",
    "#scrolling down\n",
    "SCROLL_PAUSE_TIME = 0.5\n",
    "\n",
    "# Get scroll height\n",
    "last_height = driver.execute_script(\"return document.body.scrollHeight\")\n",
    "\n",
    "for i in range(1000):\n",
    "    # Scroll down to bottom\n",
    "    driver.execute_script(\"window.scrollTo(0, document.body.scrollHeight);\")\n",
    "\n",
    "    # Wait to load page\n",
    "    time.sleep(SCROLL_PAUSE_TIME)\n",
    "\n",
    "    # Calculate new scroll height and compare with last scroll height\n",
    "#     new_height = driver.execute_script(\"return document.body.scrollHeight\")\n",
    "#     if new_height == last_height:\n",
    "#         break\n",
    "#     last_height = new_height\n",
    "\n",
    "    \n",
    "\n",
    "#getting profile urls\n",
    "lst = WebDriverWait(driver, 30).until(EC.visibility_of_all_elements_located(('xpath', \"//*[@class='x1lq5wgf xgqcy7u x30kzoy x9jhf4c x1lliihq']\")))\n",
    "\n",
    "data = []\n",
    "profiles = []\n",
    "for i, value in enumerate(lst):\n",
    "    try:\n",
    "        data.append(value.find_elements(\"xpath\", \"//*[@class='x1i10hfl x1qjc9v5 xjbqb8w xjqpnuy xa49m3k xqeqjp1 x2hbi6w x13fuv20 xu3j5b3 x1q0q8m5 x26u7qi x972fbf xcfux6l x1qhh985 xm0m39n x9f619 x1ypdohk xdl72j9 x2lah0s xe8uvvx xdj266r x11i5rnm xat24cr x1mh8g0r x2lwn1j xeuugli xexx8yu x4uap5 x18d9i69 xkhd6sd x1n2onr6 x16tdsg8 x1hl2dhg xggy1nq x1ja2u2z x1t137rt x1o1ewxj x3x9cwd x1e5q0jg x13rtm0m x1q0g3np x87ps6o x1lku1pv x1rg5ohu x1a2a7pz']\")[i].get_attribute('href'))\n",
    "        profiles.append(re.sub('[^0-9]','', re.sub('.*user\\/', '', data[i])))\n",
    "    except:\n",
    "        pass\n",
    "    \n",
    "driver.quit()\n",
    "\n",
    "\n",
    "print(len(profiles))"
   ]
  },
  {
   "cell_type": "code",
   "execution_count": 8,
   "id": "cadc88a2",
   "metadata": {},
   "outputs": [],
   "source": [
    "#save it\n",
    "import datetime\n",
    "today = datetime.datetime.today().strftime('%Y-%m-%d')\n",
    "ids_save = pd.DataFrame({'id': profiles, 'href': data})\n",
    "ids_save.to_csv('IDS_republicans_' + str(today) + '.csv', index = True)"
   ]
  },
  {
   "cell_type": "code",
   "execution_count": 9,
   "id": "83d8d992",
   "metadata": {},
   "outputs": [
    {
     "name": "stderr",
     "output_type": "stream",
     "text": [
      "/home/jonah/Downloads/miniconda3/lib/python3.9/site-packages/facebook_scraper/facebook_scraper.py:912: UserWarning: Facebook says 'Unsupported Browser'\n",
      "  warnings.warn(f\"Facebook says 'Unsupported Browser'\")\n"
     ]
    },
    {
     "name": "stdout",
     "output_type": "stream",
     "text": [
      "0 out of 2656 ... Check: 1\n"
     ]
    },
    {
     "name": "stderr",
     "output_type": "stream",
     "text": [
      "/home/jonah/Downloads/miniconda3/lib/python3.9/site-packages/dateparser/freshness_date_parser.py:76: PytzUsageWarning: The localize method is no longer necessary, as this time zone supports the fold attribute (PEP 495). For more details on migrating to a PEP 495-compliant implementation, see https://pytz-deprecation-shim.readthedocs.io/en/latest/migration.html\n",
      "  now = self.get_local_tz().localize(now)\n",
      "/home/jonah/Downloads/miniconda3/lib/python3.9/site-packages/facebook_scraper/facebook_scraper.py:908: UserWarning: Facebook served mbasic/noscript content unexpectedly on https://m.facebook.com/timeline/app_collection/?collection_token=100051434944232%3A103382489711013%3A33&paipv=0&eav=Afaw7JWhmgP6gSzJJrKg94kLfjhYi7oKqHQR_2nu8UY4UbOPjjMtDhiYq8LHoqIOMOQ&_rdr\n",
      "  warnings.warn(\n",
      "/home/jonah/Downloads/miniconda3/lib/python3.9/site-packages/facebook_scraper/facebook_scraper.py:908: UserWarning: Facebook served mbasic/noscript content unexpectedly on https://m.facebook.com/timeline/app_collection/?collection_token=100075473293288%3A103382489711013%3A33&paipv=0&eav=AfZjAHVgeaJPi1NhCkMiaSiVTAfEhIr8EsUqJLE1n6eYDU-kd_G_YQB06myg4ijIku4&_rdr\n",
      "  warnings.warn(\n",
      "/home/jonah/Downloads/miniconda3/lib/python3.9/site-packages/facebook_scraper/facebook_scraper.py:908: UserWarning: Facebook served mbasic/noscript content unexpectedly on https://m.facebook.com/timeline/app_collection/?collection_token=100090063464510%3A103382489711013%3A33&paipv=0&eav=AfbNcRmKlum2qYW2pLgPfNFpRWPhQarcRJkvve4ITM5pXi_ufar1I3aumh3GB5Ab-fg&_rdr\n",
      "  warnings.warn(\n"
     ]
    },
    {
     "name": "stdout",
     "output_type": "stream",
     "text": [
      "100 out of 2656 ... Check: 99\n",
      "200 out of 2656 ... Check: 198\n",
      "300 out of 2656 ... Check: 293\n",
      "400 out of 2656 ... Check: 391\n",
      "500 out of 2656 ... Check: 485\n",
      "600 out of 2656 ... Check: 585\n",
      "700 out of 2656 ... Check: 683\n",
      "800 out of 2656 ... Check: 783\n",
      "900 out of 2656 ... Check: 883\n",
      "1000 out of 2656 ... Check: 981\n",
      "1100 out of 2656 ... Check: 1081\n",
      "1200 out of 2656 ... Check: 1181\n",
      "1300 out of 2656 ... Check: 1281\n",
      "1400 out of 2656 ... Check: 1379\n",
      "1500 out of 2656 ... Check: 1478\n",
      "1600 out of 2656 ... Check: 1570\n",
      "1700 out of 2656 ... Check: 1668\n",
      "1800 out of 2656 ... Check: 1767\n",
      "1900 out of 2656 ... Check: 1866\n",
      "2000 out of 2656 ... Check: 1945\n",
      "2100 out of 2656 ... Check: 2042\n",
      "2200 out of 2656 ... Check: 2138\n",
      "2300 out of 2656 ... Check: 2142\n",
      "2400 out of 2656 ... Check: 2144\n",
      "2500 out of 2656 ... Check: 2148\n",
      "2600 out of 2656 ... Check: 2150\n"
     ]
    },
    {
     "data": {
      "text/plain": [
       "2154"
      ]
     },
     "execution_count": 9,
     "metadata": {},
     "output_type": "execute_result"
    }
   ],
   "source": [
    "#get datas\n",
    "profiles = pd.read_csv('./IDS_republicans_' + '2023-04-05' + '.csv')\n",
    "profiles = profiles['id']\n",
    "\n",
    "ids = []\n",
    "pfp = []\n",
    "status = []\n",
    "friends = []\n",
    "followers = []\n",
    "following = []\n",
    "name = []\n",
    "\n",
    "for i, value in enumerate(profiles):\n",
    "    try:\n",
    "        #get profile\n",
    "        temp = get_profile(str(profiles[i]), cookies=\"cookies-alt.json\", options={\"posts_per_page\": 0}) \n",
    "        #get relationship status\n",
    "        pfp.append(temp.get('profile_picture'))\n",
    "        status.append(temp.get('Relationship'))\n",
    "        ids.append(value)\n",
    "        friends.append(temp.get('Friend_count'))\n",
    "        followers.append(temp.get('Follower_count'))\n",
    "        following.append(temp.get('Following_count'))\n",
    "        name.append(temp.get('Name'))\n",
    "        time.sleep(0.8)\n",
    "        \n",
    "    except:\n",
    "        pass\n",
    "    \n",
    "    if i%100 == 0:\n",
    "        print(str(i), 'out of', str(len(profiles)), '... Check:', str(len(ids)))\n",
    "    \n",
    "#create dataframe\n",
    "df = pd.DataFrame({'id': ids, 'name': name, 'pfp': pfp, 'status': status, 'party': ['r']*len(ids), 'friends': friends, 'followers': followers, 'following': following})\n",
    "\n",
    "#save it\n",
    "import datetime\n",
    "today = datetime.datetime.today().strftime('%Y-%m-%d')\n",
    "df.to_csv('republicans_' + str(today) + '.csv', index = True)\n",
    "len(df.index)"
   ]
  },
  {
   "cell_type": "code",
   "execution_count": null,
   "id": "e6f8469a",
   "metadata": {},
   "outputs": [],
   "source": [
    "profiles[1]"
   ]
  },
  {
   "cell_type": "code",
   "execution_count": 8,
   "id": "fe794ef7",
   "metadata": {},
   "outputs": [
    {
     "name": "stderr",
     "output_type": "stream",
     "text": [
      "/home/jonah/Downloads/miniconda3/lib/python3.9/site-packages/facebook_scraper/facebook_scraper.py:912: UserWarning: Facebook says 'Unsupported Browser'\n",
      "  warnings.warn(f\"Facebook says 'Unsupported Browser'\")\n"
     ]
    },
    {
     "data": {
      "text/plain": [
       "{'Friend_count': None,\n",
       " 'Follower_count': None,\n",
       " 'Following_count': None,\n",
       " 'id': '105411447689390',\n",
       " 'Name': 'Marbles Mahoney - About'}"
      ]
     },
     "execution_count": 8,
     "metadata": {},
     "output_type": "execute_result"
    }
   ],
   "source": [
    "profiles = pd.read_csv('./IDS_democrats_' + '2023-04-05' + '.csv')\n",
    "profiles = profiles['id']\n",
    "get_profile(str(profiles[3]), cookies=\"cookies-alt.json\", options={\"posts_per_page\": 0}) "
   ]
  },
  {
   "cell_type": "code",
   "execution_count": null,
   "id": "173aa99b",
   "metadata": {},
   "outputs": [],
   "source": []
  }
 ],
 "metadata": {
  "kernelspec": {
   "display_name": "Python 3",
   "language": "python",
   "name": "python3"
  },
  "language_info": {
   "codemirror_mode": {
    "name": "ipython",
    "version": 3
   },
   "file_extension": ".py",
   "mimetype": "text/x-python",
   "name": "python",
   "nbconvert_exporter": "python",
   "pygments_lexer": "ipython3",
   "version": "3.9.12"
  }
 },
 "nbformat": 4,
 "nbformat_minor": 5
}
