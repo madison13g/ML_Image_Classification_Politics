{
 "cells": [
  {
   "cell_type": "markdown",
   "id": "a64dfae3",
   "metadata": {},
   "source": [
    "## Image Processing"
   ]
  },
  {
   "cell_type": "code",
   "execution_count": 1,
   "id": "86efc3f0",
   "metadata": {},
   "outputs": [
    {
     "name": "stdout",
     "output_type": "stream",
     "text": [
      "2449\n",
      "Index(['index', 'name', 'photo', 'party'], dtype='object')\n"
     ]
    }
   ],
   "source": [
    "import cv2\n",
    "import time\n",
    "import urllib.request\n",
    "import matplotlib.pyplot as plt\n",
    "import pandas as pd\n",
    "import numpy as np\n",
    "import undetected_chromedriver as uc\n",
    "from PIL import Image\n",
    "from selenium.webdriver.common.keys import Keys\n",
    "from selenium.webdriver.common.by import By\n",
    "\n",
    "df = pd.read_csv('./congress2023-04-11.csv', index_col=0)\n",
    "df = df.reset_index()\n",
    "print(len(df.index))\n",
    "print(df.columns)"
   ]
  },
  {
   "cell_type": "code",
   "execution_count": 2,
   "id": "b781b2a3",
   "metadata": {},
   "outputs": [
    {
     "name": "stdout",
     "output_type": "stream",
     "text": [
      "0 out of 2449\n",
      "50 out of 2449\n",
      "100 out of 2449\n",
      "150 out of 2449\n",
      "200 out of 2449\n",
      "250 out of 2449\n",
      "300 out of 2449\n",
      "350 out of 2449\n",
      "400 out of 2449\n",
      "450 out of 2449\n",
      "500 out of 2449\n",
      "550 out of 2449\n",
      "600 out of 2449\n",
      "650 out of 2449\n",
      "700 out of 2449\n",
      "750 out of 2449\n",
      "800 out of 2449\n",
      "850 out of 2449\n",
      "900 out of 2449\n",
      "950 out of 2449\n",
      "1000 out of 2449\n",
      "1050 out of 2449\n",
      "1100 out of 2449\n",
      "1150 out of 2449\n",
      "1200 out of 2449\n",
      "1250 out of 2449\n",
      "1300 out of 2449\n",
      "1350 out of 2449\n",
      "1400 out of 2449\n",
      "1450 out of 2449\n",
      "1500 out of 2449\n",
      "1550 out of 2449\n",
      "1600 out of 2449\n",
      "1650 out of 2449\n",
      "1700 out of 2449\n",
      "1750 out of 2449\n",
      "1800 out of 2449\n",
      "1850 out of 2449\n",
      "1900 out of 2449\n",
      "1950 out of 2449\n",
      "2000 out of 2449\n",
      "2050 out of 2449\n",
      "2100 out of 2449\n",
      "2150 out of 2449\n",
      "2200 out of 2449\n",
      "2250 out of 2449\n",
      "2300 out of 2449\n",
      "2350 out of 2449\n",
      "2400 out of 2449\n"
     ]
    }
   ],
   "source": [
    "import pyautogui\n",
    "from selenium.webdriver import ActionChains\n",
    "\n",
    "for i, value in enumerate(df['photo']):\n",
    "    try:\n",
    "        #get id\n",
    "        #filename = (value)[12:23]\n",
    "        \n",
    "        options = uc.ChromeOptions() \n",
    "        options.headless = False\n",
    "        #options.add_argument(\"download.default_directory=/home/mds/586_finalproject/data\")\n",
    "        driver = uc.Chrome(use_subprocess=True, options=options)\n",
    "        driver.get('https://www.congress.gov' + value)\n",
    "        actions = ActionChains(driver);\n",
    "        el = driver.find_element('xpath', '//*[body]')\n",
    "        actions.context_click(el).perform();\n",
    "        time.sleep(0.5)\n",
    "        pyautogui.press('down', presses=2)\n",
    "        time.sleep(1.5)\n",
    "        pyautogui.press('enter')\n",
    "        time.sleep(1.2)\n",
    "        pyautogui.press('enter')\n",
    "        time.sleep(1.2)\n",
    "        #pyautogui.write(filename)\n",
    "        pyautogui.click(x=1550, y=110)\n",
    "        time.sleep(2)\n",
    "        #pyautogui.press('enter')\n",
    "        driver.quit()\n",
    "        time.sleep(1.6)\n",
    "    except:\n",
    "        pass\n",
    "    \n",
    "    if i%50 == 0:\n",
    "        print(str(i), 'out of', str(len(df.index)))\n",
    "        \n",
    "    #if i == 3:\n",
    "    #    break"
   ]
  },
  {
   "cell_type": "markdown",
   "id": "5b706c6e",
   "metadata": {},
   "source": [
    "\n",
    "\n",
    "\n",
    "## Plotting all images"
   ]
  },
  {
   "cell_type": "code",
   "execution_count": 4,
   "id": "1752109a",
   "metadata": {},
   "outputs": [
    {
     "data": {
      "image/png": "[encoded data removed]",
      "text/plain": [
       "<Figure size 432x288 with 1 Axes>"
      ]
     },
     "metadata": {
      "needs_background": "light"
     },
     "output_type": "display_data"
    }
   ],
   "source": [
    "#plt.imshow(everything.loc[0, 'face']) #, cmap = 'gray'\n",
    "dems = pd.read_pickle('./democrat_faces.pkl')\n",
    "repubs = pd.read_pickle('./republican_faces.pkl')\n",
    "everything = dems.append(repubs)\n",
    "everything = everything.sample(frac=1).reset_index(drop=True)\n",
    "\n",
    "import matplotlib.pylab as plt\n",
    "import time\n",
    "from IPython import display\n",
    "%matplotlib inline\n",
    "\n",
    "\n",
    "for i in range(len(everything.index)):\n",
    "    try:\n",
    "        plt.imshow(everything.loc[i, 'face'])\n",
    "        display.display(plt.gcf())\n",
    "        display.clear_output(wait=True)\n",
    "        time.sleep(1)\n",
    "    except KeyboardInterrupt:\n",
    "        break\n"
   ]
  },
  {
   "cell_type": "code",
   "execution_count": null,
   "id": "6577ea5d",
   "metadata": {},
   "outputs": [],
   "source": []
  },
  {
   "cell_type": "code",
   "execution_count": null,
   "id": "f9d28917",
   "metadata": {},
   "outputs": [],
   "source": []
  },
  {
   "cell_type": "code",
   "execution_count": null,
   "id": "6d28d4ab",
   "metadata": {},
   "outputs": [],
   "source": []
  },
  {
   "cell_type": "code",
   "execution_count": null,
   "id": "9ce02339",
   "metadata": {},
   "outputs": [],
   "source": []
  },
  {
   "cell_type": "markdown",
   "id": "3f9a0736",
   "metadata": {},
   "source": [
    "## Old method\n",
    "\n"
   ]
  },
  {
   "cell_type": "code",
   "execution_count": 2,
   "id": "eef99ecd",
   "metadata": {},
   "outputs": [],
   "source": [
    "#get pixel function\n",
    "def url_to_image(url):\n",
    "    options = uc.ChromeOptions() \n",
    "    options.headless = True \n",
    "    driver = uc.Chrome(use_subprocess=True, options=options)\n",
    "    driver.get('chrome://settings/')\n",
    "    driver.execute_script('chrome.settingsPrivate.setDefaultZoom(1.4);')\n",
    "    driver.get(url)\n",
    "    with open('temp.png', 'wb') as file:\n",
    "    #identify image to be captured\n",
    "       l = driver.find_element('xpath', '//*[body]')\n",
    "    #write file\n",
    "       file.write(l.screenshot_as_png)\n",
    "    driver.quit()\n",
    "    time.sleep(2)\n",
    "    img = cv2.imread('./temp.png')\n",
    "    # return the image\n",
    "    return img\n",
    "\n",
    "#crop black background\n",
    "def crop_image(img):\n",
    "    gray = cv2.cvtColor(img,cv2.COLOR_BGR2GRAY)\n",
    "    _,thresh = cv2.threshold(gray,15,255,cv2.THRESH_BINARY)\n",
    "    contours,hierarchy = cv2.findContours(thresh,cv2.RETR_EXTERNAL,cv2.CHAIN_APPROX_SIMPLE)\n",
    "    cnt = contours[0]\n",
    "    x,y,w,h = cv2.boundingRect(cnt)\n",
    "    return img[y:y+h,x:x+w]\n",
    "\n",
    "#resize image keep aspect ratio\n",
    "def image_resize(image, width = None, height = None, inter = cv2.INTER_AREA):\n",
    "    # initialize the dimensions of the image to be resized and\n",
    "    # grab the image size\n",
    "    dim = None\n",
    "    (h, w) = image.shape[:2]\n",
    "\n",
    "    # if both the width and height are None, then return the\n",
    "    # original image\n",
    "    if width is None and height is None:\n",
    "        return image\n",
    "\n",
    "    # check to see if the width is None\n",
    "    if width is None:\n",
    "        # calculate the ratio of the height and construct the\n",
    "        # dimensions\n",
    "        r = height / float(h)\n",
    "        dim = (int(w * r), height)\n",
    "\n",
    "    # otherwise, the height is None\n",
    "    else:\n",
    "        # calculate the ratio of the width and construct the\n",
    "        # dimensions\n",
    "        r = width / float(w)\n",
    "        dim = (width, int(h * r))\n",
    "\n",
    "    # resize the image\n",
    "    resized = cv2.resize(image, dim, interpolation = inter)\n",
    "\n",
    "    # return the resized image\n",
    "    return resized"
   ]
  },
  {
   "cell_type": "code",
   "execution_count": 3,
   "id": "35613fc1",
   "metadata": {},
   "outputs": [
    {
     "data": {
      "text/plain": [
       "<matplotlib.image.AxesImage at 0x7fd0c428fa60>"
      ]
     },
     "execution_count": 3,
     "metadata": {},
     "output_type": "execute_result"
    },
    {
     "data": {
      "image/png": "[encoded data removed]",
      "text/plain": [
       "<Figure size 432x288 with 1 Axes>"
      ]
     },
     "metadata": {
      "needs_background": "light"
     },
     "output_type": "display_data"
    }
   ],
   "source": [
    "img1 = url_to_image(\"https://www.congress.gov\" + df.loc[0, 'photo'])\n",
    "plt.imshow(image_resize(crop_image(img1), width=120))"
   ]
  },
  {
   "cell_type": "code",
   "execution_count": 3,
   "id": "da6d675e",
   "metadata": {},
   "outputs": [
    {
     "name": "stdout",
     "output_type": "stream",
     "text": [
      "0 out of 2449 ... Check: 1\n",
      "50 out of 2449 ... Check: 51\n",
      "100 out of 2449 ... Check: 101\n",
      "150 out of 2449 ... Check: 151\n",
      "200 out of 2449 ... Check: 201\n",
      "250 out of 2449 ... Check: 251\n",
      "300 out of 2449 ... Check: 301\n",
      "350 out of 2449 ... Check: 351\n",
      "400 out of 2449 ... Check: 401\n",
      "450 out of 2449 ... Check: 451\n",
      "500 out of 2449 ... Check: 501\n",
      "550 out of 2449 ... Check: 551\n",
      "600 out of 2449 ... Check: 601\n",
      "650 out of 2449 ... Check: 650\n",
      "700 out of 2449 ... Check: 700\n",
      "750 out of 2449 ... Check: 750\n",
      "800 out of 2449 ... Check: 800\n",
      "850 out of 2449 ... Check: 850\n",
      "900 out of 2449 ... Check: 900\n",
      "950 out of 2449 ... Check: 950\n",
      "1000 out of 2449 ... Check: 1000\n",
      "1050 out of 2449 ... Check: 1050\n",
      "1100 out of 2449 ... Check: 1100\n",
      "1150 out of 2449 ... Check: 1150\n",
      "1200 out of 2449 ... Check: 1200\n",
      "1250 out of 2449 ... Check: 1250\n",
      "1300 out of 2449 ... Check: 1300\n",
      "1350 out of 2449 ... Check: 1350\n",
      "1400 out of 2449 ... Check: 1400\n",
      "1450 out of 2449 ... Check: 1450\n",
      "1500 out of 2449 ... Check: 1500\n",
      "1550 out of 2449 ... Check: 1550\n",
      "1600 out of 2449 ... Check: 1600\n",
      "1650 out of 2449 ... Check: 1650\n",
      "1700 out of 2449 ... Check: 1700\n",
      "1750 out of 2449 ... Check: 1750\n",
      "1800 out of 2449 ... Check: 1800\n",
      "1850 out of 2449 ... Check: 1850\n",
      "1900 out of 2449 ... Check: 1885\n",
      "1950 out of 2449 ... Check: 1935\n",
      "2000 out of 2449 ... Check: 1985\n",
      "2050 out of 2449 ... Check: 2020\n",
      "2100 out of 2449 ... Check: 2020\n",
      "2150 out of 2449 ... Check: 2020\n",
      "2200 out of 2449 ... Check: 2020\n",
      "2250 out of 2449 ... Check: 2020\n",
      "2300 out of 2449 ... Check: 2020\n",
      "2350 out of 2449 ... Check: 2020\n",
      "2400 out of 2449 ... Check: 2020\n"
     ]
    }
   ],
   "source": [
    "#main loop\n",
    "\n",
    "face = []\n",
    "name = []\n",
    "\n",
    "for i, value in enumerate(df['name']):\n",
    "    try:\n",
    "        img1 = url_to_image(\"https://www.congress.gov\" + df.loc[i, 'photo'])\n",
    "        cropped = crop_image(img1)\n",
    "        face.append(image_resize(cropped, width=120))\n",
    "        name.append(value)\n",
    "    except:\n",
    "        pass\n",
    "    \n",
    "    if i%50 == 0:\n",
    "        print(str(i), 'out of', str(len(df.index)), '... Check:', str(len(name)))\n",
    "\n",
    "facedf = pd.DataFrame({'name': name, 'face': face})\n",
    "\n",
    "#remerge by ids to get covariates\n",
    "everything = pd.merge(facedf, df, how='left')\n",
    "\n",
    "#save it!\n",
    "import sys\n",
    "import numpy\n",
    "numpy.set_printoptions(threshold=sys.maxsize)\n",
    "everything.to_pickle('croppedfaces.pkl')"
   ]
  },
  {
   "cell_type": "code",
   "execution_count": 5,
   "id": "4d5b2202",
   "metadata": {},
   "outputs": [],
   "source": [
    "#split df into two so i can push it to github\n",
    "import pandas as pd\n",
    "everything = pd.read_pickle('./croppedfaces.pkl')\n",
    "dems = everything.loc[df.party == 'D']\n",
    "repubs = everything.loc[df.party == 'R']\n",
    "dems.to_pickle('democrat_faces.pkl')\n",
    "repubs.to_pickle('republican_faces.pkl')"
   ]
  },
  {
   "cell_type": "code",
   "execution_count": 4,
   "id": "4c87d18d",
   "metadata": {},
   "outputs": [
    {
     "data": {
      "text/plain": [
       "D    1020\n",
       "R     991\n",
       "Name: party, dtype: int64"
      ]
     },
     "execution_count": 4,
     "metadata": {},
     "output_type": "execute_result"
    }
   ],
   "source": [
    "import pandas as pd\n",
    "everything = pd.read_pickle('./croppedfaces.pkl')\n",
    "everything['party'].value_counts()"
   ]
  }
 ],
 "metadata": {
  "kernelspec": {
   "display_name": "Python 3",
   "language": "python",
   "name": "python3"
  },
  "language_info": {
   "codemirror_mode": {
    "name": "ipython",
    "version": 3
   },
   "file_extension": ".py",
   "mimetype": "text/x-python",
   "name": "python",
   "nbconvert_exporter": "python",
   "pygments_lexer": "ipython3",
   "version": "3.9.12"
  }
 },
 "nbformat": 4,
 "nbformat_minor": 5
}
